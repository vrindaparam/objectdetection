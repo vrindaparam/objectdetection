{
 "cells": [
  {
   "cell_type": "code",
   "execution_count": 7,
   "metadata": {
    "collapsed": true
   },
   "outputs": [],
   "source": [
    "from object_detection.utils import label_map_util\n",
    "import pandas as pd\n",
    "import tensorflow as tf\n",
    "import utils"
   ]
  },
  {
   "cell_type": "code",
   "execution_count": 8,
   "outputs": [
    {
     "data": {
      "text/plain": "                                          filename  width  height class  xmin  \\\n0   U7_jpg.rf.0037faea78f8a89329a93006132921b3.jpg    390     390     U    38   \n1  P12_jpg.rf.0046c1c30abbbccd31716c5b2ad835b9.jpg    372     372     P    84   \n2   K4_jpg.rf.00821732715c9137b8060360770ea1d8.jpg    372     372     K    42   \n3   W6_jpg.rf.00d19bc3a49f6469e2afa3aa92f14ff4.jpg    412     412     W    22   \n4  J30_jpg.rf.00d20e595026b31773ded47509545471.jpg    382     382     J   122   \n\n   ymin  xmax  ymax  \n0    69   347   389  \n1   203   330   332  \n2    12   351   369  \n3    73   377   412  \n4   204   250   334  ",
      "text/html": "<div>\n<style scoped>\n    .dataframe tbody tr th:only-of-type {\n        vertical-align: middle;\n    }\n\n    .dataframe tbody tr th {\n        vertical-align: top;\n    }\n\n    .dataframe thead th {\n        text-align: right;\n    }\n</style>\n<table border=\"1\" class=\"dataframe\">\n  <thead>\n    <tr style=\"text-align: right;\">\n      <th></th>\n      <th>filename</th>\n      <th>width</th>\n      <th>height</th>\n      <th>class</th>\n      <th>xmin</th>\n      <th>ymin</th>\n      <th>xmax</th>\n      <th>ymax</th>\n    </tr>\n  </thead>\n  <tbody>\n    <tr>\n      <th>0</th>\n      <td>U7_jpg.rf.0037faea78f8a89329a93006132921b3.jpg</td>\n      <td>390</td>\n      <td>390</td>\n      <td>U</td>\n      <td>38</td>\n      <td>69</td>\n      <td>347</td>\n      <td>389</td>\n    </tr>\n    <tr>\n      <th>1</th>\n      <td>P12_jpg.rf.0046c1c30abbbccd31716c5b2ad835b9.jpg</td>\n      <td>372</td>\n      <td>372</td>\n      <td>P</td>\n      <td>84</td>\n      <td>203</td>\n      <td>330</td>\n      <td>332</td>\n    </tr>\n    <tr>\n      <th>2</th>\n      <td>K4_jpg.rf.00821732715c9137b8060360770ea1d8.jpg</td>\n      <td>372</td>\n      <td>372</td>\n      <td>K</td>\n      <td>42</td>\n      <td>12</td>\n      <td>351</td>\n      <td>369</td>\n    </tr>\n    <tr>\n      <th>3</th>\n      <td>W6_jpg.rf.00d19bc3a49f6469e2afa3aa92f14ff4.jpg</td>\n      <td>412</td>\n      <td>412</td>\n      <td>W</td>\n      <td>22</td>\n      <td>73</td>\n      <td>377</td>\n      <td>412</td>\n    </tr>\n    <tr>\n      <th>4</th>\n      <td>J30_jpg.rf.00d20e595026b31773ded47509545471.jpg</td>\n      <td>382</td>\n      <td>382</td>\n      <td>J</td>\n      <td>122</td>\n      <td>204</td>\n      <td>250</td>\n      <td>334</td>\n    </tr>\n  </tbody>\n</table>\n</div>"
     },
     "execution_count": 8,
     "metadata": {},
     "output_type": "execute_result"
    }
   ],
   "source": [
    "df_train = pd.read_csv('data/train_labels.csv')\n",
    "df_test = pd.read_csv('data/test_labels.csv')\n",
    "df = pd.concat([df_train, df_test], axis=0)\n",
    "df.head()"
   ],
   "metadata": {
    "collapsed": false,
    "pycharm": {
     "name": "#%%\n"
    }
   }
  },
  {
   "cell_type": "code",
   "execution_count": 9,
   "outputs": [],
   "source": [
    "df.to_csv('data/annotations.csv')"
   ],
   "metadata": {
    "collapsed": false,
    "pycharm": {
     "name": "#%%\n"
    }
   }
  },
  {
   "cell_type": "code",
   "execution_count": 10,
   "outputs": [
    {
     "data": {
      "text/plain": "{'U': 1,\n 'P': 2,\n 'K': 3,\n 'W': 4,\n 'J': 5,\n 'M': 6,\n 'N': 7,\n 'X': 8,\n 'S': 9,\n 'D': 10,\n 'Z': 11,\n 'F': 12,\n 'O': 13,\n 'T': 14,\n 'E': 15,\n 'H': 16,\n 'C': 17,\n 'I': 18,\n 'L': 19,\n 'B': 20,\n 'Q': 21,\n 'V': 22,\n 'G': 23,\n 'Y': 24,\n 'A': 25,\n 'R': 26}"
     },
     "execution_count": 10,
     "metadata": {},
     "output_type": "execute_result"
    }
   ],
   "source": [
    "classes = df['class'].unique()\n",
    "label_map_path = 'data/label_map.pbtxt'\n",
    "\n",
    "utils.convert_classes(classes, path=label_map_path)\n",
    "label_map_dict = label_map_util.get_label_map_dict(label_map_path)\n",
    "label_map_dict"
   ],
   "metadata": {
    "collapsed": false,
    "pycharm": {
     "name": "#%%\n"
    }
   }
  },
  {
   "cell_type": "code",
   "execution_count": 11,
   "outputs": [
    {
     "name": "stdout",
     "output_type": "stream",
     "text": [
      "Successfully created TFRecord file: data/records.tfrecords\n"
     ]
    }
   ],
   "source": [
    "csv_path = 'data/annotations.csv'\n",
    "image_dir = 'data/images'\n",
    "output_path = 'data/records.tfrecords'\n",
    "\n",
    "writer = tf.io.TFRecordWriter(output_path)\n",
    "\n",
    "grouped = utils.split(df, 'filename')\n",
    "for group in grouped:\n",
    "    tf_example = utils.create_tf_example(group, image_dir, label_map_dict)\n",
    "    writer.write(tf_example.SerializeToString())\n",
    "writer.close()\n",
    "print('Successfully created TFRecord file: {}'.format(output_path))"
   ],
   "metadata": {
    "collapsed": false,
    "pycharm": {
     "name": "#%%\n"
    }
   }
  }
 ],
 "metadata": {
  "kernelspec": {
   "display_name": "Python 3",
   "language": "python",
   "name": "python3"
  },
  "language_info": {
   "codemirror_mode": {
    "name": "ipython",
    "version": 2
   },
   "file_extension": ".py",
   "mimetype": "text/x-python",
   "name": "python",
   "nbconvert_exporter": "python",
   "pygments_lexer": "ipython2",
   "version": "2.7.6"
  }
 },
 "nbformat": 4,
 "nbformat_minor": 0
}